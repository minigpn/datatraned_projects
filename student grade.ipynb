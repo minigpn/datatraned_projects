{
 "cells": [
  {
   "cell_type": "code",
   "execution_count": null,
   "id": "e1ea4c8d",
   "metadata": {},
   "outputs": [],
   "source": [
    "import pandas as pd\n",
    "import numpy as np"
   ]
  },
  {
   "cell_type": "code",
   "execution_count": null,
   "id": "bc02271f",
   "metadata": {},
   "outputs": [],
   "source": [
    "student=pd.read_csv('https://raw.githubusercontent.com/dsrscientist/dataset4/main/Grades.csv')"
   ]
  },
  {
   "cell_type": "code",
   "execution_count": null,
   "id": "9e369e31",
   "metadata": {},
   "outputs": [],
   "source": [
    "student.head()"
   ]
  },
  {
   "cell_type": "code",
   "execution_count": null,
   "id": "a9bf4735",
   "metadata": {},
   "outputs": [],
   "source": [
    "student.columns"
   ]
  },
  {
   "cell_type": "code",
   "execution_count": null,
   "id": "25da8255",
   "metadata": {},
   "outputs": [],
   "source": [
    "student.dtypes"
   ]
  },
  {
   "cell_type": "code",
   "execution_count": null,
   "id": "b7dc1ce2",
   "metadata": {},
   "outputs": [],
   "source": [
    "student.isnull().sum()"
   ]
  },
  {
   "cell_type": "code",
   "execution_count": null,
   "id": "46d41684",
   "metadata": {},
   "outputs": [],
   "source": [
    "student['CS-412'].unique()"
   ]
  },
  {
   "cell_type": "code",
   "execution_count": null,
   "id": "bb6bf14a",
   "metadata": {},
   "outputs": [],
   "source": [
    "print(student['CS-412'].mode())\n",
    "print(student['CY-105'].mode())\n",
    "print(student['CS-423'].mode())\n",
    "print(student['CS-419'].mode())\n",
    "print(student['CS-414'].mode())\n",
    "print(student['CS-406'].mode())\n",
    "print(student['CS-421'].mode())\n",
    "print(student['CS-403'].mode())\n",
    "print(student['CS-317'].mode())\n",
    "print(student['CS-312'].mode())\n",
    "print(student['CS-306'].mode())\n",
    "print(student['CS-318'].mode())\n",
    "print(student['EL-332'].mode())\n",
    "print(student['MT-442'].mode())\n",
    "print(student['TC-383'].mode())\n",
    "print(student['CS-302'].mode())\n",
    "print(student['CS-301'].mode())\n",
    "print(student['HS-304'].mode())\n",
    "print(student['EF-303'].mode())\n",
    "print(student['MT-331'].mode())\n",
    "print(student['CS-215'].mode())\n",
    "print(student['CS-212'].mode())\n",
    "print(student['EE-217'].mode())\n",
    "print(student['CS-214'].mode())\n",
    "print(student['CS-211'].mode())\n",
    "print(student['CS-203'].mode())\n",
    "print(student['CS-210'].mode())\n",
    "print(student['MT-224'].mode())\n",
    "print(student['EE-222'].mode())\n",
    "print(student['MT-222'].mode())\n",
    "print(student['HS-205/20'].mode())\n",
    "print(student['CS-107'].mode())\n",
    "print(student['EE-119'].mode())\n",
    "print(student['EL-102'].mode())\n",
    "print(student['CS-106'].mode())\n",
    "print(student['MT-111'].mode())\n",
    "print(student['HS-105/12'].mode())\n"
   ]
  },
  {
   "cell_type": "code",
   "execution_count": null,
   "id": "d4916e87",
   "metadata": {},
   "outputs": [],
   "source": [
    "print(student['CS-412'].mode()[0])\n",
    "print(student['CY-105'].mode()[0])\n",
    "print(student['CS-423'].mode()[0])\n",
    "print(student['CS-419'].mode()[0])\n",
    "print(student['CS-414'].mode()[0])\n",
    "print(student['CS-406'].mode()[0])\n",
    "print(student['CS-421'].mode()[0])\n",
    "print(student['CS-403'].mode()[0])\n",
    "print(student['CS-317'].mode()[0])\n",
    "print(student['CS-312'].mode()[0])\n",
    "print(student['CS-306'].mode()[0])\n",
    "print(student['CS-318'].mode()[0])\n",
    "print(student['EL-332'].mode()[0])\n",
    "print(student['MT-442'].mode()[0])\n",
    "print(student['TC-383'].mode()[0])\n",
    "print(student['CS-302'].mode()[0])\n",
    "print(student['CS-301'].mode()[0])\n",
    "print(student['HS-304'].mode()[0])\n",
    "print(student['EF-303'].mode()[0])\n",
    "print(student['MT-331'].mode()[0])\n",
    "print(student['CS-215'].mode()[0])\n",
    "print(student['CS-212'].mode()[0])\n",
    "print(student['EE-217'].mode()[0])\n",
    "print(student['CS-214'].mode()[0])\n",
    "print(student['CS-211'].mode()[0])\n",
    "print(student['CS-203'].mode()[0])\n",
    "print(student['CS-210'].mode()[0])\n",
    "print(student['MT-224'].mode()[0])\n",
    "print(student['EE-222'].mode()[0])\n",
    "print(student['MT-222'].mode()[0])\n",
    "print(student['HS-205/20'].mode()[0])\n",
    "print(student['CS-107'].mode()[0])\n",
    "print(student['EE-119'].mode()[0])\n",
    "print(student['EL-102'].mode()[0])\n",
    "print(student['CS-106'].mode()[0])\n",
    "print(student['MT-111'].mode()[0])\n",
    "print(student['HS-105/12'].mode()[0])\n"
   ]
  },
  {
   "cell_type": "code",
   "execution_count": 35,
   "id": "518263fc",
   "metadata": {},
   "outputs": [],
   "source": [
    "# replacing the missing values in Embarked column with mode value\n",
    "student['CS-412'].fillna(student['CS-412'].mode()[0],inplace=True)\n",
    "student['CY-105'].fillna(student['CY-105'].mode()[0],inplace=True)\n",
    "student['CS-423'].fillna(student['CS-423'].mode()[0],inplace=True)\n",
    "student['CS-419'].fillna(student['CS-419'].mode()[0],inplace=True)\n",
    "student['CS-414'].fillna(student['CS-414'].mode()[0],inplace=True)\n",
    "student['CS-406'].fillna(student['CS-406'].mode()[0],inplace=True)\n",
    "student['HS-105/12'].fillna(student['HS-105/12'].mode()[0],inplace=True)\n",
    "student['MT-111'].fillna(student['MT-111'].mode()[0],inplace=True)\n",
    "student['CS-106'].fillna(student['CS-106'].mode()[0],inplace=True)\n",
    "student['EL-102'].fillna(student['EL-102'].mode()[0],inplace=True)\n",
    "student['EE-119'].fillna(student['EE-119'].mode()[0],inplace=True)\n",
    "student['CS-107'].fillna(student['CS-107'].mode()[0],inplace=True)\n",
    "student['HS-205/20'].fillna(student['HS-205/20'].mode()[0],inplace=True)\n",
    "student['MT-222'].fillna(student['MT-222'].mode()[0],inplace=True)\n",
    "student['EE-222'].fillna(student['EE-222'].mode()[0],inplace=True)\n",
    "student['MT-224'].fillna(student['MT-224'].mode()[0],inplace=True)\n",
    "student['CS-210'].fillna(student['CS-210'].mode()[0],inplace=True)\n",
    "student['CS-203'].fillna(student['CS-203'].mode()[0],inplace=True)\n",
    "student['CS-211'].fillna(student['CS-211'].mode()[0],inplace=True)\n",
    "student['CS-214'].fillna(student['CS-214'].mode()[0],inplace=True)\n",
    "student['EE-217'].fillna(student['EE-217'].mode()[0],inplace=True)\n",
    "student['CS-421'].fillna(student['CS-421'].mode()[0],inplace=True)\n",
    "student['CS-302'].fillna(student['CS-302'].mode()[0],inplace=True)\n",
    "student['CS-301'].fillna(student['CS-301'].mode()[0],inplace=True)\n",
    "student['HS-304'].fillna(student['HS-304'].mode()[0],inplace=True)\n",
    "student['EF-303'].fillna(student['EF-303'].mode()[0],inplace=True)\n",
    "student['MT-331'].fillna(student['MT-331'].mode()[0],inplace=True)\n",
    "student['CS-215'].fillna(student['CS-215'].mode()[0],inplace=True)\n",
    "student['ME-107'].fillna(student['ME-107'].mode()[0],inplace=True)\n",
    "student['TC-383'].fillna(student['TC-383'].mode()[0],inplace=True)\n",
    "student['CS-421'].fillna(student['CS-421'].mode()[0],inplace=True)\n",
    "student['CS-306'].fillna(student['CS-306'].mode()[0],inplace=True)\n",
    "student['CS-312'].fillna(student['CS-312'].mode()[0],inplace=True)\n",
    "student['MT-442'].fillna(student['MT-442'].mode()[0],inplace=True)\n",
    "student['EL-332'].fillna(student['EL-332'].mode()[0],inplace=True)\n",
    "student['CS-318'].fillna(student['CS-318'].mode()[0],inplace=True)\n",
    "student['CS-317'].fillna(student['CS-317'].mode()[0],inplace=True)\n",
    "student['CS-403'].fillna(student['CS-403'].mode()[0],inplace=True)"
   ]
  },
  {
   "cell_type": "code",
   "execution_count": 36,
   "id": "4abc4bfc",
   "metadata": {},
   "outputs": [
    {
     "data": {
      "text/plain": [
       "Seat No.     0\n",
       "PH-121       0\n",
       "HS-101       0\n",
       "CY-105       0\n",
       "HS-105/12    0\n",
       "MT-111       0\n",
       "CS-105       0\n",
       "CS-106       0\n",
       "EL-102       0\n",
       "EE-119       0\n",
       "ME-107       0\n",
       "CS-107       0\n",
       "HS-205/20    0\n",
       "MT-222       0\n",
       "EE-222       0\n",
       "MT-224       0\n",
       "CS-210       0\n",
       "CS-211       0\n",
       "CS-203       0\n",
       "CS-214       0\n",
       "EE-217       0\n",
       "CS-212       0\n",
       "CS-215       0\n",
       "MT-331       0\n",
       "EF-303       0\n",
       "HS-304       0\n",
       "CS-301       0\n",
       "CS-302       0\n",
       "TC-383       0\n",
       "MT-442       0\n",
       "EL-332       0\n",
       "CS-318       0\n",
       "CS-306       0\n",
       "CS-312       0\n",
       "CS-317       0\n",
       "CS-403       0\n",
       "CS-421       0\n",
       "CS-406       0\n",
       "CS-414       0\n",
       "CS-419       0\n",
       "CS-423       0\n",
       "CS-412       0\n",
       "CGPA         0\n",
       "dtype: int64"
      ]
     },
     "execution_count": 36,
     "metadata": {},
     "output_type": "execute_result"
    }
   ],
   "source": [
    "student.isnull().sum()"
   ]
  },
  {
   "cell_type": "code",
   "execution_count": 37,
   "id": "0b21cc61",
   "metadata": {},
   "outputs": [
    {
     "data": {
      "text/html": [
       "<div>\n",
       "<style scoped>\n",
       "    .dataframe tbody tr th:only-of-type {\n",
       "        vertical-align: middle;\n",
       "    }\n",
       "\n",
       "    .dataframe tbody tr th {\n",
       "        vertical-align: top;\n",
       "    }\n",
       "\n",
       "    .dataframe thead th {\n",
       "        text-align: right;\n",
       "    }\n",
       "</style>\n",
       "<table border=\"1\" class=\"dataframe\">\n",
       "  <thead>\n",
       "    <tr style=\"text-align: right;\">\n",
       "      <th></th>\n",
       "      <th>Seat No.</th>\n",
       "      <th>PH-121</th>\n",
       "      <th>HS-101</th>\n",
       "      <th>CY-105</th>\n",
       "      <th>HS-105/12</th>\n",
       "      <th>MT-111</th>\n",
       "      <th>CS-105</th>\n",
       "      <th>CS-106</th>\n",
       "      <th>EL-102</th>\n",
       "      <th>EE-119</th>\n",
       "      <th>...</th>\n",
       "      <th>CS-312</th>\n",
       "      <th>CS-317</th>\n",
       "      <th>CS-403</th>\n",
       "      <th>CS-421</th>\n",
       "      <th>CS-406</th>\n",
       "      <th>CS-414</th>\n",
       "      <th>CS-419</th>\n",
       "      <th>CS-423</th>\n",
       "      <th>CS-412</th>\n",
       "      <th>CGPA</th>\n",
       "    </tr>\n",
       "  </thead>\n",
       "  <tbody>\n",
       "    <tr>\n",
       "      <th>0</th>\n",
       "      <td>CS-97001</td>\n",
       "      <td>B-</td>\n",
       "      <td>D+</td>\n",
       "      <td>C-</td>\n",
       "      <td>C</td>\n",
       "      <td>C-</td>\n",
       "      <td>D+</td>\n",
       "      <td>D</td>\n",
       "      <td>C-</td>\n",
       "      <td>B-</td>\n",
       "      <td>...</td>\n",
       "      <td>C-</td>\n",
       "      <td>C-</td>\n",
       "      <td>C-</td>\n",
       "      <td>C-</td>\n",
       "      <td>A-</td>\n",
       "      <td>A</td>\n",
       "      <td>C-</td>\n",
       "      <td>B</td>\n",
       "      <td>A-</td>\n",
       "      <td>2.205</td>\n",
       "    </tr>\n",
       "    <tr>\n",
       "      <th>1</th>\n",
       "      <td>CS-97002</td>\n",
       "      <td>A</td>\n",
       "      <td>D</td>\n",
       "      <td>D+</td>\n",
       "      <td>D</td>\n",
       "      <td>B-</td>\n",
       "      <td>C</td>\n",
       "      <td>D</td>\n",
       "      <td>A</td>\n",
       "      <td>D+</td>\n",
       "      <td>...</td>\n",
       "      <td>D+</td>\n",
       "      <td>D</td>\n",
       "      <td>C</td>\n",
       "      <td>D</td>\n",
       "      <td>A-</td>\n",
       "      <td>B-</td>\n",
       "      <td>C</td>\n",
       "      <td>C</td>\n",
       "      <td>B</td>\n",
       "      <td>2.008</td>\n",
       "    </tr>\n",
       "    <tr>\n",
       "      <th>2</th>\n",
       "      <td>CS-97003</td>\n",
       "      <td>A</td>\n",
       "      <td>B</td>\n",
       "      <td>A</td>\n",
       "      <td>B-</td>\n",
       "      <td>B+</td>\n",
       "      <td>A</td>\n",
       "      <td>B-</td>\n",
       "      <td>B+</td>\n",
       "      <td>A-</td>\n",
       "      <td>...</td>\n",
       "      <td>B</td>\n",
       "      <td>B</td>\n",
       "      <td>A</td>\n",
       "      <td>C</td>\n",
       "      <td>A</td>\n",
       "      <td>A</td>\n",
       "      <td>A</td>\n",
       "      <td>A-</td>\n",
       "      <td>A</td>\n",
       "      <td>3.608</td>\n",
       "    </tr>\n",
       "    <tr>\n",
       "      <th>3</th>\n",
       "      <td>CS-97004</td>\n",
       "      <td>D</td>\n",
       "      <td>C+</td>\n",
       "      <td>D+</td>\n",
       "      <td>D</td>\n",
       "      <td>D</td>\n",
       "      <td>A-</td>\n",
       "      <td>D+</td>\n",
       "      <td>C-</td>\n",
       "      <td>D</td>\n",
       "      <td>...</td>\n",
       "      <td>D+</td>\n",
       "      <td>C</td>\n",
       "      <td>D+</td>\n",
       "      <td>C-</td>\n",
       "      <td>B-</td>\n",
       "      <td>B</td>\n",
       "      <td>C+</td>\n",
       "      <td>C+</td>\n",
       "      <td>C+</td>\n",
       "      <td>1.906</td>\n",
       "    </tr>\n",
       "    <tr>\n",
       "      <th>4</th>\n",
       "      <td>CS-97005</td>\n",
       "      <td>A-</td>\n",
       "      <td>A-</td>\n",
       "      <td>A-</td>\n",
       "      <td>B+</td>\n",
       "      <td>A</td>\n",
       "      <td>A</td>\n",
       "      <td>A-</td>\n",
       "      <td>B+</td>\n",
       "      <td>A</td>\n",
       "      <td>...</td>\n",
       "      <td>B-</td>\n",
       "      <td>B+</td>\n",
       "      <td>B+</td>\n",
       "      <td>B-</td>\n",
       "      <td>A-</td>\n",
       "      <td>A</td>\n",
       "      <td>A-</td>\n",
       "      <td>A-</td>\n",
       "      <td>A</td>\n",
       "      <td>3.448</td>\n",
       "    </tr>\n",
       "    <tr>\n",
       "      <th>...</th>\n",
       "      <td>...</td>\n",
       "      <td>...</td>\n",
       "      <td>...</td>\n",
       "      <td>...</td>\n",
       "      <td>...</td>\n",
       "      <td>...</td>\n",
       "      <td>...</td>\n",
       "      <td>...</td>\n",
       "      <td>...</td>\n",
       "      <td>...</td>\n",
       "      <td>...</td>\n",
       "      <td>...</td>\n",
       "      <td>...</td>\n",
       "      <td>...</td>\n",
       "      <td>...</td>\n",
       "      <td>...</td>\n",
       "      <td>...</td>\n",
       "      <td>...</td>\n",
       "      <td>...</td>\n",
       "      <td>...</td>\n",
       "      <td>...</td>\n",
       "    </tr>\n",
       "    <tr>\n",
       "      <th>566</th>\n",
       "      <td>CS-97567</td>\n",
       "      <td>B</td>\n",
       "      <td>A</td>\n",
       "      <td>A</td>\n",
       "      <td>A-</td>\n",
       "      <td>A+</td>\n",
       "      <td>A</td>\n",
       "      <td>A-</td>\n",
       "      <td>A-</td>\n",
       "      <td>A+</td>\n",
       "      <td>...</td>\n",
       "      <td>A-</td>\n",
       "      <td>A-</td>\n",
       "      <td>A</td>\n",
       "      <td>A</td>\n",
       "      <td>A</td>\n",
       "      <td>B+</td>\n",
       "      <td>B+</td>\n",
       "      <td>B</td>\n",
       "      <td>A</td>\n",
       "      <td>3.798</td>\n",
       "    </tr>\n",
       "    <tr>\n",
       "      <th>567</th>\n",
       "      <td>CS-97568</td>\n",
       "      <td>A+</td>\n",
       "      <td>A</td>\n",
       "      <td>A</td>\n",
       "      <td>A</td>\n",
       "      <td>A</td>\n",
       "      <td>A</td>\n",
       "      <td>A</td>\n",
       "      <td>A-</td>\n",
       "      <td>A</td>\n",
       "      <td>...</td>\n",
       "      <td>B+</td>\n",
       "      <td>B+</td>\n",
       "      <td>A</td>\n",
       "      <td>A</td>\n",
       "      <td>A-</td>\n",
       "      <td>B</td>\n",
       "      <td>A-</td>\n",
       "      <td>C</td>\n",
       "      <td>A-</td>\n",
       "      <td>3.772</td>\n",
       "    </tr>\n",
       "    <tr>\n",
       "      <th>568</th>\n",
       "      <td>CS-97569</td>\n",
       "      <td>B</td>\n",
       "      <td>A</td>\n",
       "      <td>A-</td>\n",
       "      <td>B+</td>\n",
       "      <td>A</td>\n",
       "      <td>A</td>\n",
       "      <td>A</td>\n",
       "      <td>A</td>\n",
       "      <td>A</td>\n",
       "      <td>...</td>\n",
       "      <td>A-</td>\n",
       "      <td>B</td>\n",
       "      <td>A</td>\n",
       "      <td>B+</td>\n",
       "      <td>A</td>\n",
       "      <td>C</td>\n",
       "      <td>B+</td>\n",
       "      <td>A-</td>\n",
       "      <td>A-</td>\n",
       "      <td>3.470</td>\n",
       "    </tr>\n",
       "    <tr>\n",
       "      <th>569</th>\n",
       "      <td>CS-97570</td>\n",
       "      <td>A</td>\n",
       "      <td>B+</td>\n",
       "      <td>D</td>\n",
       "      <td>A</td>\n",
       "      <td>D</td>\n",
       "      <td>D+</td>\n",
       "      <td>B-</td>\n",
       "      <td>C-</td>\n",
       "      <td>B-</td>\n",
       "      <td>...</td>\n",
       "      <td>D</td>\n",
       "      <td>B</td>\n",
       "      <td>B</td>\n",
       "      <td>C-</td>\n",
       "      <td>D</td>\n",
       "      <td>C</td>\n",
       "      <td>B</td>\n",
       "      <td>B-</td>\n",
       "      <td>C</td>\n",
       "      <td>2.193</td>\n",
       "    </tr>\n",
       "    <tr>\n",
       "      <th>570</th>\n",
       "      <td>CS-97571</td>\n",
       "      <td>C</td>\n",
       "      <td>D</td>\n",
       "      <td>D</td>\n",
       "      <td>C</td>\n",
       "      <td>C</td>\n",
       "      <td>D+</td>\n",
       "      <td>B</td>\n",
       "      <td>C+</td>\n",
       "      <td>C</td>\n",
       "      <td>...</td>\n",
       "      <td>C+</td>\n",
       "      <td>C</td>\n",
       "      <td>B-</td>\n",
       "      <td>D</td>\n",
       "      <td>F</td>\n",
       "      <td>C-</td>\n",
       "      <td>B+</td>\n",
       "      <td>D</td>\n",
       "      <td>C-</td>\n",
       "      <td>1.753</td>\n",
       "    </tr>\n",
       "  </tbody>\n",
       "</table>\n",
       "<p>571 rows × 43 columns</p>\n",
       "</div>"
      ],
      "text/plain": [
       "     Seat No. PH-121 HS-101 CY-105 HS-105/12 MT-111 CS-105 CS-106 EL-102  \\\n",
       "0    CS-97001     B-     D+     C-         C     C-     D+      D     C-   \n",
       "1    CS-97002      A      D     D+         D     B-      C      D      A   \n",
       "2    CS-97003      A      B      A        B-     B+      A     B-     B+   \n",
       "3    CS-97004      D     C+     D+         D      D     A-     D+     C-   \n",
       "4    CS-97005     A-     A-     A-        B+      A      A     A-     B+   \n",
       "..        ...    ...    ...    ...       ...    ...    ...    ...    ...   \n",
       "566  CS-97567      B      A      A        A-     A+      A     A-     A-   \n",
       "567  CS-97568     A+      A      A         A      A      A      A     A-   \n",
       "568  CS-97569      B      A     A-        B+      A      A      A      A   \n",
       "569  CS-97570      A     B+      D         A      D     D+     B-     C-   \n",
       "570  CS-97571      C      D      D         C      C     D+      B     C+   \n",
       "\n",
       "    EE-119  ... CS-312 CS-317 CS-403 CS-421 CS-406 CS-414 CS-419 CS-423  \\\n",
       "0       B-  ...     C-     C-     C-     C-     A-      A     C-      B   \n",
       "1       D+  ...     D+      D      C      D     A-     B-      C      C   \n",
       "2       A-  ...      B      B      A      C      A      A      A     A-   \n",
       "3        D  ...     D+      C     D+     C-     B-      B     C+     C+   \n",
       "4        A  ...     B-     B+     B+     B-     A-      A     A-     A-   \n",
       "..     ...  ...    ...    ...    ...    ...    ...    ...    ...    ...   \n",
       "566     A+  ...     A-     A-      A      A      A     B+     B+      B   \n",
       "567      A  ...     B+     B+      A      A     A-      B     A-      C   \n",
       "568      A  ...     A-      B      A     B+      A      C     B+     A-   \n",
       "569     B-  ...      D      B      B     C-      D      C      B     B-   \n",
       "570      C  ...     C+      C     B-      D      F     C-     B+      D   \n",
       "\n",
       "    CS-412   CGPA  \n",
       "0       A-  2.205  \n",
       "1        B  2.008  \n",
       "2        A  3.608  \n",
       "3       C+  1.906  \n",
       "4        A  3.448  \n",
       "..     ...    ...  \n",
       "566      A  3.798  \n",
       "567     A-  3.772  \n",
       "568     A-  3.470  \n",
       "569      C  2.193  \n",
       "570     C-  1.753  \n",
       "\n",
       "[571 rows x 43 columns]"
      ]
     },
     "execution_count": 37,
     "metadata": {},
     "output_type": "execute_result"
    }
   ],
   "source": [
    "student"
   ]
  },
  {
   "cell_type": "code",
   "execution_count": 38,
   "id": "625e46d2",
   "metadata": {},
   "outputs": [
    {
     "data": {
      "text/html": [
       "<div>\n",
       "<style scoped>\n",
       "    .dataframe tbody tr th:only-of-type {\n",
       "        vertical-align: middle;\n",
       "    }\n",
       "\n",
       "    .dataframe tbody tr th {\n",
       "        vertical-align: top;\n",
       "    }\n",
       "\n",
       "    .dataframe thead th {\n",
       "        text-align: right;\n",
       "    }\n",
       "</style>\n",
       "<table border=\"1\" class=\"dataframe\">\n",
       "  <thead>\n",
       "    <tr style=\"text-align: right;\">\n",
       "      <th></th>\n",
       "      <th>CGPA</th>\n",
       "    </tr>\n",
       "  </thead>\n",
       "  <tbody>\n",
       "    <tr>\n",
       "      <th>count</th>\n",
       "      <td>571.000000</td>\n",
       "    </tr>\n",
       "    <tr>\n",
       "      <th>mean</th>\n",
       "      <td>2.954888</td>\n",
       "    </tr>\n",
       "    <tr>\n",
       "      <th>std</th>\n",
       "      <td>0.620552</td>\n",
       "    </tr>\n",
       "    <tr>\n",
       "      <th>min</th>\n",
       "      <td>0.800000</td>\n",
       "    </tr>\n",
       "    <tr>\n",
       "      <th>25%</th>\n",
       "      <td>2.538000</td>\n",
       "    </tr>\n",
       "    <tr>\n",
       "      <th>50%</th>\n",
       "      <td>3.029000</td>\n",
       "    </tr>\n",
       "    <tr>\n",
       "      <th>75%</th>\n",
       "      <td>3.451000</td>\n",
       "    </tr>\n",
       "    <tr>\n",
       "      <th>max</th>\n",
       "      <td>3.985000</td>\n",
       "    </tr>\n",
       "  </tbody>\n",
       "</table>\n",
       "</div>"
      ],
      "text/plain": [
       "             CGPA\n",
       "count  571.000000\n",
       "mean     2.954888\n",
       "std      0.620552\n",
       "min      0.800000\n",
       "25%      2.538000\n",
       "50%      3.029000\n",
       "75%      3.451000\n",
       "max      3.985000"
      ]
     },
     "execution_count": 38,
     "metadata": {},
     "output_type": "execute_result"
    }
   ],
   "source": [
    "student.describe()"
   ]
  },
  {
   "cell_type": "code",
   "execution_count": 39,
   "id": "20c08b96",
   "metadata": {},
   "outputs": [
    {
     "data": {
      "text/plain": [
       "3.019    5\n",
       "3.058    3\n",
       "2.793    3\n",
       "3.443    3\n",
       "2.206    3\n",
       "        ..\n",
       "2.555    1\n",
       "2.042    1\n",
       "2.634    1\n",
       "2.053    1\n",
       "1.753    1\n",
       "Name: CGPA, Length: 491, dtype: int64"
      ]
     },
     "execution_count": 39,
     "metadata": {},
     "output_type": "execute_result"
    }
   ],
   "source": [
    "student['CGPA'].value_counts()"
   ]
  },
  {
   "cell_type": "markdown",
   "id": "ccd84e65",
   "metadata": {},
   "source": [
    "# 2. Exploratory Data Analysis (EDA) and Visualization:"
   ]
  },
  {
   "cell_type": "code",
   "execution_count": 49,
   "id": "4222f878",
   "metadata": {},
   "outputs": [],
   "source": [
    "import seaborn as sns\n",
    "import matplotlib.pyplot as plt\n",
    "%matplotlib inline\n",
    "import seaborn as sns"
   ]
  },
  {
   "cell_type": "code",
   "execution_count": 50,
   "id": "fc1202e4",
   "metadata": {},
   "outputs": [
    {
     "name": "stderr",
     "output_type": "stream",
     "text": [
      "C:\\ProgramData\\Anaconda3\\lib\\site-packages\\seaborn\\_decorators.py:36: FutureWarning: Pass the following variable as a keyword arg: x. From version 0.12, the only valid positional argument will be `data`, and passing other arguments without an explicit keyword will result in an error or misinterpretation.\n",
      "  warnings.warn(\n"
     ]
    },
    {
     "data": {
      "image/png": "[encoded data removed]",
      "text/plain": [
       "<Figure size 432x288 with 1 Axes>"
      ]
     },
     "metadata": {
      "needs_background": "light"
     },
     "output_type": "display_data"
    }
   ],
   "source": [
    "# showcasing the count plot which will count the Type of glass of the attributes.\n",
    "sns.countplot(student['CGPA'])\n",
    "plt.show()"
   ]
  },
  {
   "cell_type": "code",
   "execution_count": 51,
   "id": "de0514fe",
   "metadata": {},
   "outputs": [
    {
     "data": {
      "text/plain": [
       "<AxesSubplot:>"
      ]
     },
     "execution_count": 51,
     "metadata": {},
     "output_type": "execute_result"
    },
    {
     "data": {
      "image/png": "[encoded data removed]",
      "text/plain": [
       "<Figure size 432x288 with 1 Axes>"
      ]
     },
     "metadata": {
      "needs_background": "light"
     },
     "output_type": "display_data"
    }
   ],
   "source": [
    "student.boxplot()"
   ]
  },
  {
   "cell_type": "code",
   "execution_count": 52,
   "id": "8b733e54",
   "metadata": {},
   "outputs": [
    {
     "name": "stderr",
     "output_type": "stream",
     "text": [
      "C:\\ProgramData\\Anaconda3\\lib\\site-packages\\seaborn\\distributions.py:2619: FutureWarning: `distplot` is a deprecated function and will be removed in a future version. Please adapt your code to use either `displot` (a figure-level function with similar flexibility) or `histplot` (an axes-level function for histograms).\n",
      "  warnings.warn(msg, FutureWarning)\n"
     ]
    },
    {
     "data": {
      "text/plain": [
       "<AxesSubplot:xlabel='CGPA', ylabel='Density'>"
      ]
     },
     "execution_count": 52,
     "metadata": {},
     "output_type": "execute_result"
    },
    {
     "data": {
      "image/png": "[encoded data removed]",
      "text/plain": [
       "<Figure size 432x288 with 1 Axes>"
      ]
     },
     "metadata": {
      "needs_background": "light"
     },
     "output_type": "display_data"
    }
   ],
   "source": [
    "sns.distplot(student['CGPA'])"
   ]
  },
  {
   "cell_type": "code",
   "execution_count": 58,
   "id": "81e96676",
   "metadata": {},
   "outputs": [
    {
     "data": {
      "text/plain": [
       "<seaborn.axisgrid.FacetGrid at 0x20afd75ed30>"
      ]
     },
     "execution_count": 58,
     "metadata": {},
     "output_type": "execute_result"
    },
    {
     "data": {
      "image/png": "[encoded data removed]",
      "text/plain": [
       "<Figure size 410x360 with 1 Axes>"
      ]
     },
     "metadata": {
      "needs_background": "light"
     },
     "output_type": "display_data"
    }
   ],
   "source": [
    "sns.relplot(x='Seat No.', y='PH-121', hue='CGPA', data=student)"
   ]
  },
  {
   "cell_type": "markdown",
   "id": "68a2ee38",
   "metadata": {},
   "source": [
    "# 3. Model Creation"
   ]
  },
  {
   "cell_type": "code",
   "execution_count": 59,
   "id": "814cd4ad",
   "metadata": {},
   "outputs": [],
   "source": [
    "X = student.drop(['Seat No.', 'CGPA'], axis = 1)\n",
    "X = pd.get_dummies(X)\n",
    "y = student['CGPA']"
   ]
  },
  {
   "cell_type": "code",
   "execution_count": 60,
   "id": "2a46d740",
   "metadata": {},
   "outputs": [],
   "source": [
    "from sklearn.ensemble import RandomForestRegressor\n",
    "from sklearn.linear_model import LinearRegression\n",
    "from sklearn.model_selection import train_test_split"
   ]
  },
  {
   "cell_type": "code",
   "execution_count": 61,
   "id": "e730fb9d",
   "metadata": {},
   "outputs": [],
   "source": [
    "X_train,X_test,Y_train,Y_test = train_test_split(X , y, test_size=0.2, random_state=2)"
   ]
  },
  {
   "cell_type": "code",
   "execution_count": 62,
   "id": "b166c53c",
   "metadata": {},
   "outputs": [
    {
     "name": "stdout",
     "output_type": "stream",
     "text": [
      "-3.1637497793072346e+20\n",
      "894310136.7514962\n",
      "1.0361566472797258e+20\n"
     ]
    }
   ],
   "source": [
    "regr = LinearRegression()\n",
    "regr.fit(X_train, Y_train)\n",
    "res = regr.predict(X_test)\n",
    "from sklearn.metrics import r2_score, mean_absolute_percentage_error, mean_squared_error, mean_absolute_error\n",
    "print(r2_score(Y_test, res))\n",
    "print(mean_absolute_percentage_error(Y_test,res))\n",
    "print(mean_squared_error(Y_test, res))"
   ]
  },
  {
   "cell_type": "code",
   "execution_count": 63,
   "id": "a4d59fc8",
   "metadata": {},
   "outputs": [
    {
     "name": "stdout",
     "output_type": "stream",
     "text": [
      "0.8162169933556986\n",
      "0.06454874214640101\n",
      "0.06019059574086952\n"
     ]
    }
   ],
   "source": [
    "regr = RandomForestRegressor()\n",
    "regr.fit(X_train, Y_train)\n",
    "res = regr.predict(X_test)\n",
    "from sklearn.metrics import r2_score, mean_absolute_percentage_error, mean_squared_error, mean_absolute_error\n",
    "print(r2_score(Y_test, res))\n",
    "print(mean_absolute_percentage_error(Y_test,res))\n",
    "print(mean_squared_error(Y_test, res))"
   ]
  },
  {
   "cell_type": "code",
   "execution_count": 64,
   "id": "5f39fe0e",
   "metadata": {},
   "outputs": [
    {
     "name": "stdout",
     "output_type": "stream",
     "text": [
      "0.44764920301667\n",
      "0.1110277089698681\n",
      "0.18089987826086956\n"
     ]
    }
   ],
   "source": [
    "from sklearn.tree import DecisionTreeRegressor\n",
    "regr = DecisionTreeRegressor()\n",
    "regr.fit(X_train, Y_train)\n",
    "res = regr.predict(X_test)\n",
    "from sklearn.metrics import r2_score, mean_absolute_percentage_error, mean_squared_error, mean_absolute_error\n",
    "print(r2_score(Y_test, res))\n",
    "print(mean_absolute_percentage_error(Y_test,res))\n",
    "print(mean_squared_error(Y_test, res))"
   ]
  },
  {
   "cell_type": "code",
   "execution_count": 65,
   "id": "9e77df5c",
   "metadata": {},
   "outputs": [
    {
     "name": "stdout",
     "output_type": "stream",
     "text": [
      "0.6600647233909351\n",
      "0.1030535390569808\n",
      "0.1113318754874735\n"
     ]
    }
   ],
   "source": [
    "from sklearn.ensemble import AdaBoostRegressor\n",
    "regr = AdaBoostRegressor()\n",
    "regr.fit(X_train, Y_train)\n",
    "res = regr.predict(X_test)\n",
    "from sklearn.metrics import r2_score, mean_absolute_percentage_error, mean_squared_error, mean_absolute_error\n",
    "print(r2_score(Y_test, res))\n",
    "print(mean_absolute_percentage_error(Y_test,res))\n",
    "print(mean_squared_error(Y_test, res))"
   ]
  },
  {
   "cell_type": "code",
   "execution_count": null,
   "id": "8aa29d9c",
   "metadata": {},
   "outputs": [],
   "source": []
  }
 ],
 "metadata": {
  "kernelspec": {
   "display_name": "Python 3 (ipykernel)",
   "language": "python",
   "name": "python3"
  },
  "language_info": {
   "codemirror_mode": {
    "name": "ipython",
    "version": 3
   },
   "file_extension": ".py",
   "mimetype": "text/x-python",
   "name": "python",
   "nbconvert_exporter": "python",
   "pygments_lexer": "ipython3",
   "version": "3.9.12"
  }
 },
 "nbformat": 4,
 "nbformat_minor": 5
}
